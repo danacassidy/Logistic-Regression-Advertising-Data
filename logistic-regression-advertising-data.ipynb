{
 "cells": [
  {
   "cell_type": "markdown",
   "id": "blank-essay",
   "metadata": {
    "papermill": {
     "duration": 0.022128,
     "end_time": "2021-05-19T19:06:54.191647",
     "exception": false,
     "start_time": "2021-05-19T19:06:54.169519",
     "status": "completed"
    },
    "tags": []
   },
   "source": [
    "___\n",
    "\n",
    "<a href='http://www.pieriandata.com'> <img src='../Pierian_Data_Logo.png' /></a>\n",
    "___\n",
    "# Logistic Regression Project \n",
    "\n",
    "In this project I will be working with a fake advertising data set, indicating whether or not a particular internet user clicked on an Advertisement. I will then create a model that will predict whether or not they will click on an ad based off the features of that user.\n",
    "\n",
    "This data set contains the following features:\n",
    "\n",
    "* 'Daily Time Spent on Site': consumer time on site in minutes\n",
    "* 'Age': cutomer age in years\n",
    "* 'Area Income': Avg. Income of geographical area of consumer\n",
    "* 'Daily Internet Usage': Avg. minutes a day consumer is on the internet\n",
    "* 'Ad Topic Line': Headline of the advertisement\n",
    "* 'City': City of consumer\n",
    "* 'Male': Whether or not consumer was male\n",
    "* 'Country': Country of consumer\n",
    "* 'Timestamp': Time at which consumer clicked on Ad or closed window\n",
    "* 'Clicked on Ad': 0 or 1 indicated clicking on Ad\n",
    "\n",
    "## Import Libraries\n"
   ]
  },
  {
   "cell_type": "code",
   "execution_count": 1,
   "id": "professional-israeli",
   "metadata": {
    "execution": {
     "iopub.execute_input": "2021-05-19T19:06:54.236807Z",
     "iopub.status.busy": "2021-05-19T19:06:54.235769Z",
     "iopub.status.idle": "2021-05-19T19:06:54.239173Z",
     "shell.execute_reply": "2021-05-19T19:06:54.239628Z"
    },
    "papermill": {
     "duration": 0.027773,
     "end_time": "2021-05-19T19:06:54.239872",
     "exception": false,
     "start_time": "2021-05-19T19:06:54.212099",
     "status": "completed"
    },
    "tags": []
   },
   "outputs": [],
   "source": [
    "import pandas as pd\n",
    "import numpy as np"
   ]
  },
  {
   "cell_type": "code",
   "execution_count": 2,
   "id": "amateur-height",
   "metadata": {
    "execution": {
     "iopub.execute_input": "2021-05-19T19:06:54.284512Z",
     "iopub.status.busy": "2021-05-19T19:06:54.283901Z",
     "iopub.status.idle": "2021-05-19T19:06:55.161215Z",
     "shell.execute_reply": "2021-05-19T19:06:55.160118Z"
    },
    "papermill": {
     "duration": 0.900263,
     "end_time": "2021-05-19T19:06:55.161362",
     "exception": false,
     "start_time": "2021-05-19T19:06:54.261099",
     "status": "completed"
    },
    "tags": []
   },
   "outputs": [],
   "source": [
    "import matplotlib.pyplot as plt\n",
    "import seaborn as sns\n",
    "%matplotlib inline"
   ]
  },
  {
   "cell_type": "markdown",
   "id": "consecutive-group",
   "metadata": {
    "papermill": {
     "duration": 0.02176,
     "end_time": "2021-05-19T19:06:55.204164",
     "exception": false,
     "start_time": "2021-05-19T19:06:55.182404",
     "status": "completed"
    },
    "tags": []
   },
   "source": [
    "## Get the Data\n",
    "**Read in the advertising.csv file and set it to a data frame called ad_data.**"
   ]
  },
  {
   "cell_type": "code",
   "execution_count": 3,
   "id": "collective-privilege",
   "metadata": {
    "execution": {
     "iopub.execute_input": "2021-05-19T19:06:55.251501Z",
     "iopub.status.busy": "2021-05-19T19:06:55.250651Z",
     "iopub.status.idle": "2021-05-19T19:06:55.341832Z",
     "shell.execute_reply": "2021-05-19T19:06:55.342500Z"
    },
    "papermill": {
     "duration": 0.117813,
     "end_time": "2021-05-19T19:06:55.342767",
     "exception": false,
     "start_time": "2021-05-19T19:06:55.224954",
     "status": "completed"
    },
    "tags": []
   },
   "outputs": [
    {
     "ename": "FileNotFoundError",
     "evalue": "[Errno 2] No such file or directory: 'advertising.csv'",
     "output_type": "error",
     "traceback": [
      "\u001b[0;31m---------------------------------------------------------------------------\u001b[0m",
      "\u001b[0;31mFileNotFoundError\u001b[0m                         Traceback (most recent call last)",
      "\u001b[0;32m<ipython-input-3-9c07f871188b>\u001b[0m in \u001b[0;36m<module>\u001b[0;34m\u001b[0m\n\u001b[0;32m----> 1\u001b[0;31m \u001b[0mad_data\u001b[0m \u001b[0;34m=\u001b[0m \u001b[0mpd\u001b[0m\u001b[0;34m.\u001b[0m\u001b[0mread_csv\u001b[0m\u001b[0;34m(\u001b[0m\u001b[0;34m'advertising.csv'\u001b[0m\u001b[0;34m)\u001b[0m\u001b[0;34m\u001b[0m\u001b[0;34m\u001b[0m\u001b[0m\n\u001b[0m",
      "\u001b[0;32m/opt/conda/lib/python3.7/site-packages/pandas/io/parsers.py\u001b[0m in \u001b[0;36mread_csv\u001b[0;34m(filepath_or_buffer, sep, delimiter, header, names, index_col, usecols, squeeze, prefix, mangle_dupe_cols, dtype, engine, converters, true_values, false_values, skipinitialspace, skiprows, skipfooter, nrows, na_values, keep_default_na, na_filter, verbose, skip_blank_lines, parse_dates, infer_datetime_format, keep_date_col, date_parser, dayfirst, cache_dates, iterator, chunksize, compression, thousands, decimal, lineterminator, quotechar, quoting, doublequote, escapechar, comment, encoding, dialect, error_bad_lines, warn_bad_lines, delim_whitespace, low_memory, memory_map, float_precision, storage_options)\u001b[0m\n\u001b[1;32m    608\u001b[0m     \u001b[0mkwds\u001b[0m\u001b[0;34m.\u001b[0m\u001b[0mupdate\u001b[0m\u001b[0;34m(\u001b[0m\u001b[0mkwds_defaults\u001b[0m\u001b[0;34m)\u001b[0m\u001b[0;34m\u001b[0m\u001b[0;34m\u001b[0m\u001b[0m\n\u001b[1;32m    609\u001b[0m \u001b[0;34m\u001b[0m\u001b[0m\n\u001b[0;32m--> 610\u001b[0;31m     \u001b[0;32mreturn\u001b[0m \u001b[0m_read\u001b[0m\u001b[0;34m(\u001b[0m\u001b[0mfilepath_or_buffer\u001b[0m\u001b[0;34m,\u001b[0m \u001b[0mkwds\u001b[0m\u001b[0;34m)\u001b[0m\u001b[0;34m\u001b[0m\u001b[0;34m\u001b[0m\u001b[0m\n\u001b[0m\u001b[1;32m    611\u001b[0m \u001b[0;34m\u001b[0m\u001b[0m\n\u001b[1;32m    612\u001b[0m \u001b[0;34m\u001b[0m\u001b[0m\n",
      "\u001b[0;32m/opt/conda/lib/python3.7/site-packages/pandas/io/parsers.py\u001b[0m in \u001b[0;36m_read\u001b[0;34m(filepath_or_buffer, kwds)\u001b[0m\n\u001b[1;32m    460\u001b[0m \u001b[0;34m\u001b[0m\u001b[0m\n\u001b[1;32m    461\u001b[0m     \u001b[0;31m# Create the parser.\u001b[0m\u001b[0;34m\u001b[0m\u001b[0;34m\u001b[0m\u001b[0;34m\u001b[0m\u001b[0m\n\u001b[0;32m--> 462\u001b[0;31m     \u001b[0mparser\u001b[0m \u001b[0;34m=\u001b[0m \u001b[0mTextFileReader\u001b[0m\u001b[0;34m(\u001b[0m\u001b[0mfilepath_or_buffer\u001b[0m\u001b[0;34m,\u001b[0m \u001b[0;34m**\u001b[0m\u001b[0mkwds\u001b[0m\u001b[0;34m)\u001b[0m\u001b[0;34m\u001b[0m\u001b[0;34m\u001b[0m\u001b[0m\n\u001b[0m\u001b[1;32m    463\u001b[0m \u001b[0;34m\u001b[0m\u001b[0m\n\u001b[1;32m    464\u001b[0m     \u001b[0;32mif\u001b[0m \u001b[0mchunksize\u001b[0m \u001b[0;32mor\u001b[0m \u001b[0miterator\u001b[0m\u001b[0;34m:\u001b[0m\u001b[0;34m\u001b[0m\u001b[0;34m\u001b[0m\u001b[0m\n",
      "\u001b[0;32m/opt/conda/lib/python3.7/site-packages/pandas/io/parsers.py\u001b[0m in \u001b[0;36m__init__\u001b[0;34m(self, f, engine, **kwds)\u001b[0m\n\u001b[1;32m    817\u001b[0m             \u001b[0mself\u001b[0m\u001b[0;34m.\u001b[0m\u001b[0moptions\u001b[0m\u001b[0;34m[\u001b[0m\u001b[0;34m\"has_index_names\"\u001b[0m\u001b[0;34m]\u001b[0m \u001b[0;34m=\u001b[0m \u001b[0mkwds\u001b[0m\u001b[0;34m[\u001b[0m\u001b[0;34m\"has_index_names\"\u001b[0m\u001b[0;34m]\u001b[0m\u001b[0;34m\u001b[0m\u001b[0;34m\u001b[0m\u001b[0m\n\u001b[1;32m    818\u001b[0m \u001b[0;34m\u001b[0m\u001b[0m\n\u001b[0;32m--> 819\u001b[0;31m         \u001b[0mself\u001b[0m\u001b[0;34m.\u001b[0m\u001b[0m_engine\u001b[0m \u001b[0;34m=\u001b[0m \u001b[0mself\u001b[0m\u001b[0;34m.\u001b[0m\u001b[0m_make_engine\u001b[0m\u001b[0;34m(\u001b[0m\u001b[0mself\u001b[0m\u001b[0;34m.\u001b[0m\u001b[0mengine\u001b[0m\u001b[0;34m)\u001b[0m\u001b[0;34m\u001b[0m\u001b[0;34m\u001b[0m\u001b[0m\n\u001b[0m\u001b[1;32m    820\u001b[0m \u001b[0;34m\u001b[0m\u001b[0m\n\u001b[1;32m    821\u001b[0m     \u001b[0;32mdef\u001b[0m \u001b[0mclose\u001b[0m\u001b[0;34m(\u001b[0m\u001b[0mself\u001b[0m\u001b[0;34m)\u001b[0m\u001b[0;34m:\u001b[0m\u001b[0;34m\u001b[0m\u001b[0;34m\u001b[0m\u001b[0m\n",
      "\u001b[0;32m/opt/conda/lib/python3.7/site-packages/pandas/io/parsers.py\u001b[0m in \u001b[0;36m_make_engine\u001b[0;34m(self, engine)\u001b[0m\n\u001b[1;32m   1048\u001b[0m             )\n\u001b[1;32m   1049\u001b[0m         \u001b[0;31m# error: Too many arguments for \"ParserBase\"\u001b[0m\u001b[0;34m\u001b[0m\u001b[0;34m\u001b[0m\u001b[0;34m\u001b[0m\u001b[0m\n\u001b[0;32m-> 1050\u001b[0;31m         \u001b[0;32mreturn\u001b[0m \u001b[0mmapping\u001b[0m\u001b[0;34m[\u001b[0m\u001b[0mengine\u001b[0m\u001b[0;34m]\u001b[0m\u001b[0;34m(\u001b[0m\u001b[0mself\u001b[0m\u001b[0;34m.\u001b[0m\u001b[0mf\u001b[0m\u001b[0;34m,\u001b[0m \u001b[0;34m**\u001b[0m\u001b[0mself\u001b[0m\u001b[0;34m.\u001b[0m\u001b[0moptions\u001b[0m\u001b[0;34m)\u001b[0m  \u001b[0;31m# type: ignore[call-arg]\u001b[0m\u001b[0;34m\u001b[0m\u001b[0;34m\u001b[0m\u001b[0m\n\u001b[0m\u001b[1;32m   1051\u001b[0m \u001b[0;34m\u001b[0m\u001b[0m\n\u001b[1;32m   1052\u001b[0m     \u001b[0;32mdef\u001b[0m \u001b[0m_failover_to_python\u001b[0m\u001b[0;34m(\u001b[0m\u001b[0mself\u001b[0m\u001b[0;34m)\u001b[0m\u001b[0;34m:\u001b[0m\u001b[0;34m\u001b[0m\u001b[0;34m\u001b[0m\u001b[0m\n",
      "\u001b[0;32m/opt/conda/lib/python3.7/site-packages/pandas/io/parsers.py\u001b[0m in \u001b[0;36m__init__\u001b[0;34m(self, src, **kwds)\u001b[0m\n\u001b[1;32m   1865\u001b[0m \u001b[0;34m\u001b[0m\u001b[0m\n\u001b[1;32m   1866\u001b[0m         \u001b[0;31m# open handles\u001b[0m\u001b[0;34m\u001b[0m\u001b[0;34m\u001b[0m\u001b[0;34m\u001b[0m\u001b[0m\n\u001b[0;32m-> 1867\u001b[0;31m         \u001b[0mself\u001b[0m\u001b[0;34m.\u001b[0m\u001b[0m_open_handles\u001b[0m\u001b[0;34m(\u001b[0m\u001b[0msrc\u001b[0m\u001b[0;34m,\u001b[0m \u001b[0mkwds\u001b[0m\u001b[0;34m)\u001b[0m\u001b[0;34m\u001b[0m\u001b[0;34m\u001b[0m\u001b[0m\n\u001b[0m\u001b[1;32m   1868\u001b[0m         \u001b[0;32massert\u001b[0m \u001b[0mself\u001b[0m\u001b[0;34m.\u001b[0m\u001b[0mhandles\u001b[0m \u001b[0;32mis\u001b[0m \u001b[0;32mnot\u001b[0m \u001b[0;32mNone\u001b[0m\u001b[0;34m\u001b[0m\u001b[0;34m\u001b[0m\u001b[0m\n\u001b[1;32m   1869\u001b[0m         \u001b[0;32mfor\u001b[0m \u001b[0mkey\u001b[0m \u001b[0;32min\u001b[0m \u001b[0;34m(\u001b[0m\u001b[0;34m\"storage_options\"\u001b[0m\u001b[0;34m,\u001b[0m \u001b[0;34m\"encoding\"\u001b[0m\u001b[0;34m,\u001b[0m \u001b[0;34m\"memory_map\"\u001b[0m\u001b[0;34m,\u001b[0m \u001b[0;34m\"compression\"\u001b[0m\u001b[0;34m)\u001b[0m\u001b[0;34m:\u001b[0m\u001b[0;34m\u001b[0m\u001b[0;34m\u001b[0m\u001b[0m\n",
      "\u001b[0;32m/opt/conda/lib/python3.7/site-packages/pandas/io/parsers.py\u001b[0m in \u001b[0;36m_open_handles\u001b[0;34m(self, src, kwds)\u001b[0m\n\u001b[1;32m   1366\u001b[0m             \u001b[0mcompression\u001b[0m\u001b[0;34m=\u001b[0m\u001b[0mkwds\u001b[0m\u001b[0;34m.\u001b[0m\u001b[0mget\u001b[0m\u001b[0;34m(\u001b[0m\u001b[0;34m\"compression\"\u001b[0m\u001b[0;34m,\u001b[0m \u001b[0;32mNone\u001b[0m\u001b[0;34m)\u001b[0m\u001b[0;34m,\u001b[0m\u001b[0;34m\u001b[0m\u001b[0;34m\u001b[0m\u001b[0m\n\u001b[1;32m   1367\u001b[0m             \u001b[0mmemory_map\u001b[0m\u001b[0;34m=\u001b[0m\u001b[0mkwds\u001b[0m\u001b[0;34m.\u001b[0m\u001b[0mget\u001b[0m\u001b[0;34m(\u001b[0m\u001b[0;34m\"memory_map\"\u001b[0m\u001b[0;34m,\u001b[0m \u001b[0;32mFalse\u001b[0m\u001b[0;34m)\u001b[0m\u001b[0;34m,\u001b[0m\u001b[0;34m\u001b[0m\u001b[0;34m\u001b[0m\u001b[0m\n\u001b[0;32m-> 1368\u001b[0;31m             \u001b[0mstorage_options\u001b[0m\u001b[0;34m=\u001b[0m\u001b[0mkwds\u001b[0m\u001b[0;34m.\u001b[0m\u001b[0mget\u001b[0m\u001b[0;34m(\u001b[0m\u001b[0;34m\"storage_options\"\u001b[0m\u001b[0;34m,\u001b[0m \u001b[0;32mNone\u001b[0m\u001b[0;34m)\u001b[0m\u001b[0;34m,\u001b[0m\u001b[0;34m\u001b[0m\u001b[0;34m\u001b[0m\u001b[0m\n\u001b[0m\u001b[1;32m   1369\u001b[0m         )\n\u001b[1;32m   1370\u001b[0m \u001b[0;34m\u001b[0m\u001b[0m\n",
      "\u001b[0;32m/opt/conda/lib/python3.7/site-packages/pandas/io/common.py\u001b[0m in \u001b[0;36mget_handle\u001b[0;34m(path_or_buf, mode, encoding, compression, memory_map, is_text, errors, storage_options)\u001b[0m\n\u001b[1;32m    645\u001b[0m                 \u001b[0mencoding\u001b[0m\u001b[0;34m=\u001b[0m\u001b[0mioargs\u001b[0m\u001b[0;34m.\u001b[0m\u001b[0mencoding\u001b[0m\u001b[0;34m,\u001b[0m\u001b[0;34m\u001b[0m\u001b[0;34m\u001b[0m\u001b[0m\n\u001b[1;32m    646\u001b[0m                 \u001b[0merrors\u001b[0m\u001b[0;34m=\u001b[0m\u001b[0merrors\u001b[0m\u001b[0;34m,\u001b[0m\u001b[0;34m\u001b[0m\u001b[0;34m\u001b[0m\u001b[0m\n\u001b[0;32m--> 647\u001b[0;31m                 \u001b[0mnewline\u001b[0m\u001b[0;34m=\u001b[0m\u001b[0;34m\"\"\u001b[0m\u001b[0;34m,\u001b[0m\u001b[0;34m\u001b[0m\u001b[0;34m\u001b[0m\u001b[0m\n\u001b[0m\u001b[1;32m    648\u001b[0m             )\n\u001b[1;32m    649\u001b[0m         \u001b[0;32melse\u001b[0m\u001b[0;34m:\u001b[0m\u001b[0;34m\u001b[0m\u001b[0;34m\u001b[0m\u001b[0m\n",
      "\u001b[0;31mFileNotFoundError\u001b[0m: [Errno 2] No such file or directory: 'advertising.csv'"
     ]
    }
   ],
   "source": [
    "ad_data = pd.read_csv('advertising.csv')"
   ]
  },
  {
   "cell_type": "markdown",
   "id": "offshore-means",
   "metadata": {
    "papermill": {
     "duration": 0.021627,
     "end_time": "2021-05-19T19:06:55.387776",
     "exception": false,
     "start_time": "2021-05-19T19:06:55.366149",
     "status": "completed"
    },
    "tags": []
   },
   "source": [
    "**Check the head of ad_data**"
   ]
  },
  {
   "cell_type": "code",
   "execution_count": 4,
   "id": "included-opportunity",
   "metadata": {
    "execution": {
     "iopub.execute_input": "2021-05-19T19:06:55.434614Z",
     "iopub.status.busy": "2021-05-19T19:06:55.434040Z",
     "iopub.status.idle": "2021-05-19T19:06:55.445767Z",
     "shell.execute_reply": "2021-05-19T19:06:55.446321Z"
    },
    "papermill": {
     "duration": 0.036711,
     "end_time": "2021-05-19T19:06:55.446484",
     "exception": false,
     "start_time": "2021-05-19T19:06:55.409773",
     "status": "completed"
    },
    "tags": []
   },
   "outputs": [
    {
     "ename": "NameError",
     "evalue": "name 'ad_data' is not defined",
     "output_type": "error",
     "traceback": [
      "\u001b[0;31m---------------------------------------------------------------------------\u001b[0m",
      "\u001b[0;31mNameError\u001b[0m                                 Traceback (most recent call last)",
      "\u001b[0;32m<ipython-input-4-5093e5b32e09>\u001b[0m in \u001b[0;36m<module>\u001b[0;34m\u001b[0m\n\u001b[0;32m----> 1\u001b[0;31m \u001b[0mad_data\u001b[0m\u001b[0;34m.\u001b[0m\u001b[0mhead\u001b[0m\u001b[0;34m(\u001b[0m\u001b[0;34m)\u001b[0m\u001b[0;34m\u001b[0m\u001b[0;34m\u001b[0m\u001b[0m\n\u001b[0m",
      "\u001b[0;31mNameError\u001b[0m: name 'ad_data' is not defined"
     ]
    }
   ],
   "source": [
    "ad_data.head()"
   ]
  },
  {
   "cell_type": "code",
   "execution_count": null,
   "id": "confused-austin",
   "metadata": {
    "papermill": {
     "duration": 0.022274,
     "end_time": "2021-05-19T19:06:55.490823",
     "exception": false,
     "start_time": "2021-05-19T19:06:55.468549",
     "status": "completed"
    },
    "tags": []
   },
   "outputs": [],
   "source": []
  },
  {
   "cell_type": "markdown",
   "id": "tight-football",
   "metadata": {
    "papermill": {
     "duration": 0.021924,
     "end_time": "2021-05-19T19:06:55.535414",
     "exception": false,
     "start_time": "2021-05-19T19:06:55.513490",
     "status": "completed"
    },
    "tags": []
   },
   "source": [
    "** Use info and describe() on ad_data**"
   ]
  },
  {
   "cell_type": "code",
   "execution_count": 5,
   "id": "greater-velvet",
   "metadata": {
    "execution": {
     "iopub.execute_input": "2021-05-19T19:06:55.587330Z",
     "iopub.status.busy": "2021-05-19T19:06:55.586418Z",
     "iopub.status.idle": "2021-05-19T19:06:55.597863Z",
     "shell.execute_reply": "2021-05-19T19:06:55.598444Z"
    },
    "papermill": {
     "duration": 0.041083,
     "end_time": "2021-05-19T19:06:55.598619",
     "exception": false,
     "start_time": "2021-05-19T19:06:55.557536",
     "status": "completed"
    },
    "tags": []
   },
   "outputs": [
    {
     "ename": "NameError",
     "evalue": "name 'ad_data' is not defined",
     "output_type": "error",
     "traceback": [
      "\u001b[0;31m---------------------------------------------------------------------------\u001b[0m",
      "\u001b[0;31mNameError\u001b[0m                                 Traceback (most recent call last)",
      "\u001b[0;32m<ipython-input-5-c158b0792fae>\u001b[0m in \u001b[0;36m<module>\u001b[0;34m\u001b[0m\n\u001b[0;32m----> 1\u001b[0;31m \u001b[0mad_data\u001b[0m\u001b[0;34m.\u001b[0m\u001b[0minfo\u001b[0m\u001b[0;34m(\u001b[0m\u001b[0;34m)\u001b[0m\u001b[0;34m\u001b[0m\u001b[0;34m\u001b[0m\u001b[0m\n\u001b[0m",
      "\u001b[0;31mNameError\u001b[0m: name 'ad_data' is not defined"
     ]
    }
   ],
   "source": [
    "ad_data.info()"
   ]
  },
  {
   "cell_type": "code",
   "execution_count": 6,
   "id": "funded-congress",
   "metadata": {
    "execution": {
     "iopub.execute_input": "2021-05-19T19:06:55.647045Z",
     "iopub.status.busy": "2021-05-19T19:06:55.646081Z",
     "iopub.status.idle": "2021-05-19T19:06:55.659067Z",
     "shell.execute_reply": "2021-05-19T19:06:55.659598Z"
    },
    "papermill": {
     "duration": 0.038725,
     "end_time": "2021-05-19T19:06:55.659770",
     "exception": false,
     "start_time": "2021-05-19T19:06:55.621045",
     "status": "completed"
    },
    "tags": []
   },
   "outputs": [
    {
     "ename": "NameError",
     "evalue": "name 'ad_data' is not defined",
     "output_type": "error",
     "traceback": [
      "\u001b[0;31m---------------------------------------------------------------------------\u001b[0m",
      "\u001b[0;31mNameError\u001b[0m                                 Traceback (most recent call last)",
      "\u001b[0;32m<ipython-input-6-db6626e9262e>\u001b[0m in \u001b[0;36m<module>\u001b[0;34m\u001b[0m\n\u001b[0;32m----> 1\u001b[0;31m \u001b[0mad_data\u001b[0m\u001b[0;34m.\u001b[0m\u001b[0mdescribe\u001b[0m\u001b[0;34m(\u001b[0m\u001b[0;34m)\u001b[0m\u001b[0;34m\u001b[0m\u001b[0;34m\u001b[0m\u001b[0m\n\u001b[0m",
      "\u001b[0;31mNameError\u001b[0m: name 'ad_data' is not defined"
     ]
    }
   ],
   "source": [
    "ad_data.describe()"
   ]
  },
  {
   "cell_type": "markdown",
   "id": "conventional-watershed",
   "metadata": {
    "papermill": {
     "duration": 0.02292,
     "end_time": "2021-05-19T19:06:55.706196",
     "exception": false,
     "start_time": "2021-05-19T19:06:55.683276",
     "status": "completed"
    },
    "tags": []
   },
   "source": [
    "## Exploratory Data Analysis\n",
    "\n",
    "Let's use seaborn to explore the data!\n",
    "\n",
    "Try recreating the plots shown below!\n",
    "\n",
    "** Create a histogram of the Age**"
   ]
  },
  {
   "cell_type": "code",
   "execution_count": 7,
   "id": "underlying-deputy",
   "metadata": {
    "execution": {
     "iopub.execute_input": "2021-05-19T19:06:55.756314Z",
     "iopub.status.busy": "2021-05-19T19:06:55.755308Z",
     "iopub.status.idle": "2021-05-19T19:06:55.770082Z",
     "shell.execute_reply": "2021-05-19T19:06:55.770579Z"
    },
    "papermill": {
     "duration": 0.041522,
     "end_time": "2021-05-19T19:06:55.770753",
     "exception": false,
     "start_time": "2021-05-19T19:06:55.729231",
     "status": "completed"
    },
    "tags": []
   },
   "outputs": [
    {
     "ename": "NameError",
     "evalue": "name 'ad_data' is not defined",
     "output_type": "error",
     "traceback": [
      "\u001b[0;31m---------------------------------------------------------------------------\u001b[0m",
      "\u001b[0;31mNameError\u001b[0m                                 Traceback (most recent call last)",
      "\u001b[0;32m<ipython-input-7-97149c69287f>\u001b[0m in \u001b[0;36m<module>\u001b[0;34m\u001b[0m\n\u001b[1;32m      1\u001b[0m \u001b[0msns\u001b[0m\u001b[0;34m.\u001b[0m\u001b[0mset_palette\u001b[0m\u001b[0;34m(\u001b[0m\u001b[0;34m'bright'\u001b[0m\u001b[0;34m)\u001b[0m\u001b[0;34m\u001b[0m\u001b[0;34m\u001b[0m\u001b[0m\n\u001b[1;32m      2\u001b[0m \u001b[0msns\u001b[0m\u001b[0;34m.\u001b[0m\u001b[0mset_style\u001b[0m\u001b[0;34m(\u001b[0m\u001b[0;34m'whitegrid'\u001b[0m\u001b[0;34m)\u001b[0m\u001b[0;34m\u001b[0m\u001b[0;34m\u001b[0m\u001b[0m\n\u001b[0;32m----> 3\u001b[0;31m \u001b[0msns\u001b[0m\u001b[0;34m.\u001b[0m\u001b[0mhistplot\u001b[0m\u001b[0;34m(\u001b[0m\u001b[0mx\u001b[0m\u001b[0;34m=\u001b[0m\u001b[0mad_data\u001b[0m\u001b[0;34m[\u001b[0m\u001b[0;34m'Age'\u001b[0m\u001b[0;34m]\u001b[0m\u001b[0;34m,\u001b[0m\u001b[0mbins\u001b[0m\u001b[0;34m=\u001b[0m\u001b[0;36m30\u001b[0m\u001b[0;34m)\u001b[0m\u001b[0;34m\u001b[0m\u001b[0;34m\u001b[0m\u001b[0m\n\u001b[0m",
      "\u001b[0;31mNameError\u001b[0m: name 'ad_data' is not defined"
     ]
    }
   ],
   "source": [
    "sns.set_palette('bright')\n",
    "sns.set_style('whitegrid')\n",
    "sns.histplot(x=ad_data['Age'],bins=30)"
   ]
  },
  {
   "cell_type": "markdown",
   "id": "drawn-diagram",
   "metadata": {
    "papermill": {
     "duration": 0.023566,
     "end_time": "2021-05-19T19:06:55.819475",
     "exception": false,
     "start_time": "2021-05-19T19:06:55.795909",
     "status": "completed"
    },
    "tags": []
   },
   "source": [
    "**Create a jointplot showing Area Income versus Age.**"
   ]
  },
  {
   "cell_type": "code",
   "execution_count": 8,
   "id": "functional-negative",
   "metadata": {
    "execution": {
     "iopub.execute_input": "2021-05-19T19:06:55.871126Z",
     "iopub.status.busy": "2021-05-19T19:06:55.870127Z",
     "iopub.status.idle": "2021-05-19T19:06:55.883550Z",
     "shell.execute_reply": "2021-05-19T19:06:55.884042Z"
    },
    "papermill": {
     "duration": 0.040874,
     "end_time": "2021-05-19T19:06:55.884208",
     "exception": false,
     "start_time": "2021-05-19T19:06:55.843334",
     "status": "completed"
    },
    "scrolled": true,
    "tags": []
   },
   "outputs": [
    {
     "ename": "NameError",
     "evalue": "name 'ad_data' is not defined",
     "output_type": "error",
     "traceback": [
      "\u001b[0;31m---------------------------------------------------------------------------\u001b[0m",
      "\u001b[0;31mNameError\u001b[0m                                 Traceback (most recent call last)",
      "\u001b[0;32m<ipython-input-8-6f7fa3de0ebf>\u001b[0m in \u001b[0;36m<module>\u001b[0;34m\u001b[0m\n\u001b[0;32m----> 1\u001b[0;31m \u001b[0msns\u001b[0m\u001b[0;34m.\u001b[0m\u001b[0mjointplot\u001b[0m\u001b[0;34m(\u001b[0m\u001b[0mx\u001b[0m\u001b[0;34m=\u001b[0m\u001b[0;34m'Area Income'\u001b[0m\u001b[0;34m,\u001b[0m\u001b[0my\u001b[0m\u001b[0;34m=\u001b[0m\u001b[0;34m'Age'\u001b[0m\u001b[0;34m,\u001b[0m\u001b[0mdata\u001b[0m\u001b[0;34m=\u001b[0m\u001b[0mad_data\u001b[0m\u001b[0;34m)\u001b[0m\u001b[0;34m\u001b[0m\u001b[0;34m\u001b[0m\u001b[0m\n\u001b[0m",
      "\u001b[0;31mNameError\u001b[0m: name 'ad_data' is not defined"
     ]
    }
   ],
   "source": [
    "sns.jointplot(x='Area Income',y='Age',data=ad_data)"
   ]
  },
  {
   "cell_type": "markdown",
   "id": "several-migration",
   "metadata": {
    "papermill": {
     "duration": 0.023222,
     "end_time": "2021-05-19T19:06:55.931525",
     "exception": false,
     "start_time": "2021-05-19T19:06:55.908303",
     "status": "completed"
    },
    "tags": []
   },
   "source": [
    "**Create a jointplot showing the kde distributions of Daily Time spent on site vs. Age.**"
   ]
  },
  {
   "cell_type": "code",
   "execution_count": 9,
   "id": "bridal-thinking",
   "metadata": {
    "execution": {
     "iopub.execute_input": "2021-05-19T19:06:55.982936Z",
     "iopub.status.busy": "2021-05-19T19:06:55.981941Z",
     "iopub.status.idle": "2021-05-19T19:06:55.995334Z",
     "shell.execute_reply": "2021-05-19T19:06:55.995776Z"
    },
    "papermill": {
     "duration": 0.040712,
     "end_time": "2021-05-19T19:06:55.995940",
     "exception": false,
     "start_time": "2021-05-19T19:06:55.955228",
     "status": "completed"
    },
    "tags": []
   },
   "outputs": [
    {
     "ename": "NameError",
     "evalue": "name 'ad_data' is not defined",
     "output_type": "error",
     "traceback": [
      "\u001b[0;31m---------------------------------------------------------------------------\u001b[0m",
      "\u001b[0;31mNameError\u001b[0m                                 Traceback (most recent call last)",
      "\u001b[0;32m<ipython-input-9-fadb2ec82243>\u001b[0m in \u001b[0;36m<module>\u001b[0;34m\u001b[0m\n\u001b[0;32m----> 1\u001b[0;31m \u001b[0msns\u001b[0m\u001b[0;34m.\u001b[0m\u001b[0mjointplot\u001b[0m\u001b[0;34m(\u001b[0m\u001b[0mx\u001b[0m\u001b[0;34m=\u001b[0m\u001b[0;34m'Age'\u001b[0m\u001b[0;34m,\u001b[0m\u001b[0my\u001b[0m\u001b[0;34m=\u001b[0m\u001b[0;34m'Daily Time Spent on Site'\u001b[0m\u001b[0;34m,\u001b[0m\u001b[0mdata\u001b[0m\u001b[0;34m=\u001b[0m\u001b[0mad_data\u001b[0m\u001b[0;34m,\u001b[0m \u001b[0mkind\u001b[0m\u001b[0;34m=\u001b[0m\u001b[0;34m'kde'\u001b[0m\u001b[0;34m,\u001b[0m \u001b[0;34m)\u001b[0m\u001b[0;34m\u001b[0m\u001b[0;34m\u001b[0m\u001b[0m\n\u001b[0m",
      "\u001b[0;31mNameError\u001b[0m: name 'ad_data' is not defined"
     ]
    }
   ],
   "source": [
    "sns.jointplot(x='Age',y='Daily Time Spent on Site',data=ad_data, kind='kde', )"
   ]
  },
  {
   "cell_type": "markdown",
   "id": "secondary-training",
   "metadata": {
    "papermill": {
     "duration": 0.023384,
     "end_time": "2021-05-19T19:06:56.043616",
     "exception": false,
     "start_time": "2021-05-19T19:06:56.020232",
     "status": "completed"
    },
    "tags": []
   },
   "source": [
    "** Create a jointplot of 'Daily Time Spent on Site' vs. 'Daily Internet Usage'**"
   ]
  },
  {
   "cell_type": "code",
   "execution_count": 10,
   "id": "veterinary-spyware",
   "metadata": {
    "execution": {
     "iopub.execute_input": "2021-05-19T19:06:56.096209Z",
     "iopub.status.busy": "2021-05-19T19:06:56.095296Z",
     "iopub.status.idle": "2021-05-19T19:06:56.109275Z",
     "shell.execute_reply": "2021-05-19T19:06:56.109818Z"
    },
    "papermill": {
     "duration": 0.041682,
     "end_time": "2021-05-19T19:06:56.110015",
     "exception": false,
     "start_time": "2021-05-19T19:06:56.068333",
     "status": "completed"
    },
    "tags": []
   },
   "outputs": [
    {
     "ename": "NameError",
     "evalue": "name 'ad_data' is not defined",
     "output_type": "error",
     "traceback": [
      "\u001b[0;31m---------------------------------------------------------------------------\u001b[0m",
      "\u001b[0;31mNameError\u001b[0m                                 Traceback (most recent call last)",
      "\u001b[0;32m<ipython-input-10-a62c8ef70588>\u001b[0m in \u001b[0;36m<module>\u001b[0;34m\u001b[0m\n\u001b[0;32m----> 1\u001b[0;31m \u001b[0msns\u001b[0m\u001b[0;34m.\u001b[0m\u001b[0mjointplot\u001b[0m\u001b[0;34m(\u001b[0m\u001b[0mx\u001b[0m\u001b[0;34m=\u001b[0m\u001b[0;34m'Daily Time Spent on Site'\u001b[0m\u001b[0;34m,\u001b[0m\u001b[0my\u001b[0m\u001b[0;34m=\u001b[0m\u001b[0;34m'Daily Internet Usage'\u001b[0m\u001b[0;34m,\u001b[0m\u001b[0mdata\u001b[0m\u001b[0;34m=\u001b[0m\u001b[0mad_data\u001b[0m \u001b[0;34m)\u001b[0m\u001b[0;34m\u001b[0m\u001b[0;34m\u001b[0m\u001b[0m\n\u001b[0m",
      "\u001b[0;31mNameError\u001b[0m: name 'ad_data' is not defined"
     ]
    }
   ],
   "source": [
    "sns.jointplot(x='Daily Time Spent on Site',y='Daily Internet Usage',data=ad_data )"
   ]
  },
  {
   "cell_type": "markdown",
   "id": "czech-spain",
   "metadata": {
    "papermill": {
     "duration": 0.024176,
     "end_time": "2021-05-19T19:06:56.159626",
     "exception": false,
     "start_time": "2021-05-19T19:06:56.135450",
     "status": "completed"
    },
    "tags": []
   },
   "source": [
    "** Finally, create a pairplot with the hue defined by the 'Clicked on Ad' column feature.**"
   ]
  },
  {
   "cell_type": "code",
   "execution_count": 11,
   "id": "clinical-creator",
   "metadata": {
    "execution": {
     "iopub.execute_input": "2021-05-19T19:06:56.221824Z",
     "iopub.status.busy": "2021-05-19T19:06:56.221119Z",
     "iopub.status.idle": "2021-05-19T19:06:56.223704Z",
     "shell.execute_reply": "2021-05-19T19:06:56.224159Z"
    },
    "papermill": {
     "duration": 0.040043,
     "end_time": "2021-05-19T19:06:56.224317",
     "exception": false,
     "start_time": "2021-05-19T19:06:56.184274",
     "status": "completed"
    },
    "tags": []
   },
   "outputs": [
    {
     "ename": "NameError",
     "evalue": "name 'ad_data' is not defined",
     "output_type": "error",
     "traceback": [
      "\u001b[0;31m---------------------------------------------------------------------------\u001b[0m",
      "\u001b[0;31mNameError\u001b[0m                                 Traceback (most recent call last)",
      "\u001b[0;32m<ipython-input-11-31d03955e302>\u001b[0m in \u001b[0;36m<module>\u001b[0;34m\u001b[0m\n\u001b[0;32m----> 1\u001b[0;31m \u001b[0msns\u001b[0m\u001b[0;34m.\u001b[0m\u001b[0mpairplot\u001b[0m\u001b[0;34m(\u001b[0m\u001b[0mdata\u001b[0m\u001b[0;34m=\u001b[0m\u001b[0mad_data\u001b[0m\u001b[0;34m,\u001b[0m \u001b[0mhue\u001b[0m\u001b[0;34m=\u001b[0m\u001b[0;34m'Clicked on Ad'\u001b[0m\u001b[0;34m)\u001b[0m\u001b[0;34m\u001b[0m\u001b[0;34m\u001b[0m\u001b[0m\n\u001b[0m",
      "\u001b[0;31mNameError\u001b[0m: name 'ad_data' is not defined"
     ]
    }
   ],
   "source": [
    "sns.pairplot(data=ad_data, hue='Clicked on Ad')"
   ]
  },
  {
   "cell_type": "markdown",
   "id": "responsible-birth",
   "metadata": {
    "papermill": {
     "duration": 0.024848,
     "end_time": "2021-05-19T19:06:56.274414",
     "exception": false,
     "start_time": "2021-05-19T19:06:56.249566",
     "status": "completed"
    },
    "tags": []
   },
   "source": [
    "# Logistic Regression\n",
    "\n",
    "Now it's time to do a train test split, and train our model."
   ]
  },
  {
   "cell_type": "markdown",
   "id": "historical-clarity",
   "metadata": {
    "papermill": {
     "duration": 0.02444,
     "end_time": "2021-05-19T19:06:56.324160",
     "exception": false,
     "start_time": "2021-05-19T19:06:56.299720",
     "status": "completed"
    },
    "tags": []
   },
   "source": [
    "** Split the data into training set and testing set using train_test_split**"
   ]
  },
  {
   "cell_type": "code",
   "execution_count": 12,
   "id": "alike-valley",
   "metadata": {
    "execution": {
     "iopub.execute_input": "2021-05-19T19:06:56.378060Z",
     "iopub.status.busy": "2021-05-19T19:06:56.377441Z",
     "iopub.status.idle": "2021-05-19T19:06:56.597988Z",
     "shell.execute_reply": "2021-05-19T19:06:56.597403Z"
    },
    "papermill": {
     "duration": 0.248974,
     "end_time": "2021-05-19T19:06:56.598123",
     "exception": false,
     "start_time": "2021-05-19T19:06:56.349149",
     "status": "completed"
    },
    "tags": []
   },
   "outputs": [],
   "source": [
    "from sklearn.model_selection import train_test_split"
   ]
  },
  {
   "cell_type": "code",
   "execution_count": 13,
   "id": "complex-reward",
   "metadata": {
    "execution": {
     "iopub.execute_input": "2021-05-19T19:06:56.658341Z",
     "iopub.status.busy": "2021-05-19T19:06:56.657349Z",
     "iopub.status.idle": "2021-05-19T19:06:56.676368Z",
     "shell.execute_reply": "2021-05-19T19:06:56.675758Z"
    },
    "papermill": {
     "duration": 0.052985,
     "end_time": "2021-05-19T19:06:56.676504",
     "exception": false,
     "start_time": "2021-05-19T19:06:56.623519",
     "status": "completed"
    },
    "tags": []
   },
   "outputs": [
    {
     "ename": "NameError",
     "evalue": "name 'ad_data' is not defined",
     "output_type": "error",
     "traceback": [
      "\u001b[0;31m---------------------------------------------------------------------------\u001b[0m",
      "\u001b[0;31mNameError\u001b[0m                                 Traceback (most recent call last)",
      "\u001b[0;32m<ipython-input-13-6aefb65c3453>\u001b[0m in \u001b[0;36m<module>\u001b[0;34m\u001b[0m\n\u001b[0;32m----> 1\u001b[0;31m \u001b[0mX\u001b[0m \u001b[0;34m=\u001b[0m \u001b[0mad_data\u001b[0m\u001b[0;34m[\u001b[0m\u001b[0;34m[\u001b[0m\u001b[0;34m'Daily Time Spent on Site'\u001b[0m\u001b[0;34m,\u001b[0m \u001b[0;34m'Age'\u001b[0m\u001b[0;34m,\u001b[0m \u001b[0;34m'Area Income'\u001b[0m\u001b[0;34m,\u001b[0m\u001b[0;34m'Daily Internet Usage'\u001b[0m\u001b[0;34m,\u001b[0m \u001b[0;34m'Male'\u001b[0m\u001b[0;34m]\u001b[0m\u001b[0;34m]\u001b[0m\u001b[0;34m\u001b[0m\u001b[0;34m\u001b[0m\u001b[0m\n\u001b[0m\u001b[1;32m      2\u001b[0m \u001b[0my\u001b[0m \u001b[0;34m=\u001b[0m \u001b[0mad_data\u001b[0m\u001b[0;34m[\u001b[0m\u001b[0;34m'Clicked on Ad'\u001b[0m\u001b[0;34m]\u001b[0m\u001b[0;34m\u001b[0m\u001b[0;34m\u001b[0m\u001b[0m\n",
      "\u001b[0;31mNameError\u001b[0m: name 'ad_data' is not defined"
     ]
    }
   ],
   "source": [
    "X = ad_data[['Daily Time Spent on Site', 'Age', 'Area Income','Daily Internet Usage', 'Male']]\n",
    "y = ad_data['Clicked on Ad']"
   ]
  },
  {
   "cell_type": "code",
   "execution_count": 14,
   "id": "trying-giant",
   "metadata": {
    "execution": {
     "iopub.execute_input": "2021-05-19T19:06:56.742027Z",
     "iopub.status.busy": "2021-05-19T19:06:56.741298Z",
     "iopub.status.idle": "2021-05-19T19:06:56.745438Z",
     "shell.execute_reply": "2021-05-19T19:06:56.744926Z"
    },
    "papermill": {
     "duration": 0.042632,
     "end_time": "2021-05-19T19:06:56.745579",
     "exception": false,
     "start_time": "2021-05-19T19:06:56.702947",
     "status": "completed"
    },
    "tags": []
   },
   "outputs": [
    {
     "ename": "NameError",
     "evalue": "name 'X' is not defined",
     "output_type": "error",
     "traceback": [
      "\u001b[0;31m---------------------------------------------------------------------------\u001b[0m",
      "\u001b[0;31mNameError\u001b[0m                                 Traceback (most recent call last)",
      "\u001b[0;32m<ipython-input-14-39be55beabfd>\u001b[0m in \u001b[0;36m<module>\u001b[0;34m\u001b[0m\n\u001b[0;32m----> 1\u001b[0;31m \u001b[0mX_train\u001b[0m\u001b[0;34m,\u001b[0m \u001b[0mX_test\u001b[0m\u001b[0;34m,\u001b[0m \u001b[0my_train\u001b[0m\u001b[0;34m,\u001b[0m \u001b[0my_test\u001b[0m \u001b[0;34m=\u001b[0m \u001b[0mtrain_test_split\u001b[0m\u001b[0;34m(\u001b[0m\u001b[0mX\u001b[0m\u001b[0;34m,\u001b[0m\u001b[0my\u001b[0m\u001b[0;34m,\u001b[0m \u001b[0mtest_size\u001b[0m\u001b[0;34m=\u001b[0m\u001b[0;36m0.30\u001b[0m\u001b[0;34m,\u001b[0m \u001b[0mrandom_state\u001b[0m\u001b[0;34m=\u001b[0m\u001b[0;36m101\u001b[0m\u001b[0;34m)\u001b[0m\u001b[0;34m\u001b[0m\u001b[0;34m\u001b[0m\u001b[0m\n\u001b[0m",
      "\u001b[0;31mNameError\u001b[0m: name 'X' is not defined"
     ]
    }
   ],
   "source": [
    "X_train, X_test, y_train, y_test = train_test_split(X,y, test_size=0.30, random_state=101)"
   ]
  },
  {
   "cell_type": "markdown",
   "id": "subjective-hepatitis",
   "metadata": {
    "papermill": {
     "duration": 0.02585,
     "end_time": "2021-05-19T19:06:56.798108",
     "exception": false,
     "start_time": "2021-05-19T19:06:56.772258",
     "status": "completed"
    },
    "tags": []
   },
   "source": [
    "** Train and fit a logistic regression model on the training set.**"
   ]
  },
  {
   "cell_type": "code",
   "execution_count": 15,
   "id": "applicable-cuisine",
   "metadata": {
    "execution": {
     "iopub.execute_input": "2021-05-19T19:06:56.854066Z",
     "iopub.status.busy": "2021-05-19T19:06:56.853448Z",
     "iopub.status.idle": "2021-05-19T19:06:56.948637Z",
     "shell.execute_reply": "2021-05-19T19:06:56.948082Z"
    },
    "papermill": {
     "duration": 0.124767,
     "end_time": "2021-05-19T19:06:56.948784",
     "exception": false,
     "start_time": "2021-05-19T19:06:56.824017",
     "status": "completed"
    },
    "tags": []
   },
   "outputs": [],
   "source": [
    "from sklearn.linear_model import LogisticRegression"
   ]
  },
  {
   "cell_type": "code",
   "execution_count": 16,
   "id": "removable-colorado",
   "metadata": {
    "execution": {
     "iopub.execute_input": "2021-05-19T19:06:57.006942Z",
     "iopub.status.busy": "2021-05-19T19:06:57.006272Z",
     "iopub.status.idle": "2021-05-19T19:06:57.009086Z",
     "shell.execute_reply": "2021-05-19T19:06:57.008560Z"
    },
    "papermill": {
     "duration": 0.033209,
     "end_time": "2021-05-19T19:06:57.009218",
     "exception": false,
     "start_time": "2021-05-19T19:06:56.976009",
     "status": "completed"
    },
    "tags": []
   },
   "outputs": [],
   "source": [
    "logmodel = LogisticRegression()"
   ]
  },
  {
   "cell_type": "code",
   "execution_count": 17,
   "id": "alone-format",
   "metadata": {
    "execution": {
     "iopub.execute_input": "2021-05-19T19:06:57.072128Z",
     "iopub.status.busy": "2021-05-19T19:06:57.070700Z",
     "iopub.status.idle": "2021-05-19T19:06:57.082117Z",
     "shell.execute_reply": "2021-05-19T19:06:57.082561Z"
    },
    "papermill": {
     "duration": 0.047096,
     "end_time": "2021-05-19T19:06:57.082741",
     "exception": false,
     "start_time": "2021-05-19T19:06:57.035645",
     "status": "completed"
    },
    "tags": []
   },
   "outputs": [
    {
     "ename": "NameError",
     "evalue": "name 'X_train' is not defined",
     "output_type": "error",
     "traceback": [
      "\u001b[0;31m---------------------------------------------------------------------------\u001b[0m",
      "\u001b[0;31mNameError\u001b[0m                                 Traceback (most recent call last)",
      "\u001b[0;32m<ipython-input-17-0b508b2e1562>\u001b[0m in \u001b[0;36m<module>\u001b[0;34m\u001b[0m\n\u001b[0;32m----> 1\u001b[0;31m \u001b[0mlogmodel\u001b[0m\u001b[0;34m.\u001b[0m\u001b[0mfit\u001b[0m\u001b[0;34m(\u001b[0m\u001b[0mX_train\u001b[0m\u001b[0;34m,\u001b[0m\u001b[0my_train\u001b[0m\u001b[0;34m)\u001b[0m\u001b[0;34m\u001b[0m\u001b[0;34m\u001b[0m\u001b[0m\n\u001b[0m",
      "\u001b[0;31mNameError\u001b[0m: name 'X_train' is not defined"
     ]
    }
   ],
   "source": [
    "logmodel.fit(X_train,y_train)"
   ]
  },
  {
   "cell_type": "markdown",
   "id": "champion-monitor",
   "metadata": {
    "papermill": {
     "duration": 0.026914,
     "end_time": "2021-05-19T19:06:57.136858",
     "exception": false,
     "start_time": "2021-05-19T19:06:57.109944",
     "status": "completed"
    },
    "tags": []
   },
   "source": [
    "## Predictions and Evaluations\n",
    "** Now predict values for the testing data.**"
   ]
  },
  {
   "cell_type": "code",
   "execution_count": 18,
   "id": "prospective-screw",
   "metadata": {
    "execution": {
     "iopub.execute_input": "2021-05-19T19:06:57.204670Z",
     "iopub.status.busy": "2021-05-19T19:06:57.204078Z",
     "iopub.status.idle": "2021-05-19T19:06:57.207604Z",
     "shell.execute_reply": "2021-05-19T19:06:57.207096Z"
    },
    "papermill": {
     "duration": 0.043328,
     "end_time": "2021-05-19T19:06:57.207724",
     "exception": false,
     "start_time": "2021-05-19T19:06:57.164396",
     "status": "completed"
    },
    "tags": []
   },
   "outputs": [
    {
     "ename": "NameError",
     "evalue": "name 'X_test' is not defined",
     "output_type": "error",
     "traceback": [
      "\u001b[0;31m---------------------------------------------------------------------------\u001b[0m",
      "\u001b[0;31mNameError\u001b[0m                                 Traceback (most recent call last)",
      "\u001b[0;32m<ipython-input-18-2674d4ee4eaa>\u001b[0m in \u001b[0;36m<module>\u001b[0;34m\u001b[0m\n\u001b[0;32m----> 1\u001b[0;31m \u001b[0mpredictions\u001b[0m \u001b[0;34m=\u001b[0m \u001b[0mlogmodel\u001b[0m\u001b[0;34m.\u001b[0m\u001b[0mpredict\u001b[0m\u001b[0;34m(\u001b[0m\u001b[0mX_test\u001b[0m\u001b[0;34m)\u001b[0m\u001b[0;34m\u001b[0m\u001b[0;34m\u001b[0m\u001b[0m\n\u001b[0m",
      "\u001b[0;31mNameError\u001b[0m: name 'X_test' is not defined"
     ]
    }
   ],
   "source": [
    "predictions = logmodel.predict(X_test)"
   ]
  },
  {
   "cell_type": "code",
   "execution_count": 19,
   "id": "advised-investigation",
   "metadata": {
    "execution": {
     "iopub.execute_input": "2021-05-19T19:06:57.274587Z",
     "iopub.status.busy": "2021-05-19T19:06:57.273931Z",
     "iopub.status.idle": "2021-05-19T19:06:57.277601Z",
     "shell.execute_reply": "2021-05-19T19:06:57.277039Z"
    },
    "papermill": {
     "duration": 0.043069,
     "end_time": "2021-05-19T19:06:57.277741",
     "exception": false,
     "start_time": "2021-05-19T19:06:57.234672",
     "status": "completed"
    },
    "tags": []
   },
   "outputs": [
    {
     "ename": "NameError",
     "evalue": "name 'predictions' is not defined",
     "output_type": "error",
     "traceback": [
      "\u001b[0;31m---------------------------------------------------------------------------\u001b[0m",
      "\u001b[0;31mNameError\u001b[0m                                 Traceback (most recent call last)",
      "\u001b[0;32m<ipython-input-19-fd2951b82103>\u001b[0m in \u001b[0;36m<module>\u001b[0;34m\u001b[0m\n\u001b[0;32m----> 1\u001b[0;31m \u001b[0mpredictions\u001b[0m\u001b[0;34m\u001b[0m\u001b[0;34m\u001b[0m\u001b[0m\n\u001b[0m",
      "\u001b[0;31mNameError\u001b[0m: name 'predictions' is not defined"
     ]
    }
   ],
   "source": [
    "predictions"
   ]
  },
  {
   "cell_type": "markdown",
   "id": "statewide-exploration",
   "metadata": {
    "papermill": {
     "duration": 0.028555,
     "end_time": "2021-05-19T19:06:57.335465",
     "exception": false,
     "start_time": "2021-05-19T19:06:57.306910",
     "status": "completed"
    },
    "tags": []
   },
   "source": [
    "** Create a classification report for the model.**"
   ]
  },
  {
   "cell_type": "code",
   "execution_count": 20,
   "id": "mathematical-booking",
   "metadata": {
    "execution": {
     "iopub.execute_input": "2021-05-19T19:06:57.396616Z",
     "iopub.status.busy": "2021-05-19T19:06:57.395928Z",
     "iopub.status.idle": "2021-05-19T19:06:57.400545Z",
     "shell.execute_reply": "2021-05-19T19:06:57.399998Z"
    },
    "papermill": {
     "duration": 0.037189,
     "end_time": "2021-05-19T19:06:57.400679",
     "exception": false,
     "start_time": "2021-05-19T19:06:57.363490",
     "status": "completed"
    },
    "tags": []
   },
   "outputs": [],
   "source": [
    "from sklearn.metrics import classification_report"
   ]
  },
  {
   "cell_type": "code",
   "execution_count": 21,
   "id": "organized-video",
   "metadata": {
    "execution": {
     "iopub.execute_input": "2021-05-19T19:06:57.471800Z",
     "iopub.status.busy": "2021-05-19T19:06:57.471091Z",
     "iopub.status.idle": "2021-05-19T19:06:57.475163Z",
     "shell.execute_reply": "2021-05-19T19:06:57.474571Z"
    },
    "papermill": {
     "duration": 0.045734,
     "end_time": "2021-05-19T19:06:57.475297",
     "exception": false,
     "start_time": "2021-05-19T19:06:57.429563",
     "status": "completed"
    },
    "tags": []
   },
   "outputs": [
    {
     "ename": "NameError",
     "evalue": "name 'y_test' is not defined",
     "output_type": "error",
     "traceback": [
      "\u001b[0;31m---------------------------------------------------------------------------\u001b[0m",
      "\u001b[0;31mNameError\u001b[0m                                 Traceback (most recent call last)",
      "\u001b[0;32m<ipython-input-21-49b4b26ceb45>\u001b[0m in \u001b[0;36m<module>\u001b[0;34m\u001b[0m\n\u001b[0;32m----> 1\u001b[0;31m \u001b[0mprint\u001b[0m\u001b[0;34m(\u001b[0m\u001b[0mclassification_report\u001b[0m\u001b[0;34m(\u001b[0m\u001b[0my_test\u001b[0m\u001b[0;34m,\u001b[0m\u001b[0mpredictions\u001b[0m\u001b[0;34m)\u001b[0m\u001b[0;34m)\u001b[0m\u001b[0;34m\u001b[0m\u001b[0;34m\u001b[0m\u001b[0m\n\u001b[0m",
      "\u001b[0;31mNameError\u001b[0m: name 'y_test' is not defined"
     ]
    }
   ],
   "source": [
    "print(classification_report(y_test,predictions))"
   ]
  }
 ],
 "metadata": {
  "kernelspec": {
   "display_name": "Python 3",
   "language": "python",
   "name": "python3"
  },
  "language_info": {
   "codemirror_mode": {
    "name": "ipython",
    "version": 3
   },
   "file_extension": ".py",
   "mimetype": "text/x-python",
   "name": "python",
   "nbconvert_exporter": "python",
   "pygments_lexer": "ipython3",
   "version": "3.7.9"
  },
  "papermill": {
   "default_parameters": {},
   "duration": 9.783383,
   "end_time": "2021-05-19T19:06:58.113826",
   "environment_variables": {},
   "exception": null,
   "input_path": "__notebook__.ipynb",
   "output_path": "__notebook__.ipynb",
   "parameters": {},
   "start_time": "2021-05-19T19:06:48.330443",
   "version": "2.3.2"
  }
 },
 "nbformat": 4,
 "nbformat_minor": 5
}
